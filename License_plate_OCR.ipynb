{
 "cells": [
  {
   "cell_type": "code",
   "execution_count": 22,
   "metadata": {},
   "outputs": [
    {
     "name": "stdout",
     "output_type": "stream",
     "text": [
      "Requirement already up-to-date: pytesseract in c:\\users\\vishesh\\anaconda3\\lib\\site-packages (0.3.3)\n",
      "Requirement already up-to-date: wget in c:\\users\\vishesh\\anaconda3\\lib\\site-packages (3.2)\n",
      "Requirement already satisfied, skipping upgrade: Pillow in c:\\users\\vishesh\\anaconda3\\lib\\site-packages (from pytesseract) (6.2.1)\n"
     ]
    }
   ],
   "source": [
    "#Recognizing text in license plates images using OpenCV and Tesseract OCR\n",
    "!pip install --upgrade pytesseract wget\n"
   ]
  },
  {
   "cell_type": "code",
   "execution_count": 47,
   "metadata": {},
   "outputs": [],
   "source": [
    "# Loading the required python modules\n",
    "import pytesseract\n",
    "import matplotlib.pyplot as plt\n",
    "import cv2\n",
    "import glob\n",
    "import os\n",
    "pytesseract.pytesseract.tesseract_cmd = r\"C:\\Program Files\\Tesseract-OCR\\tesseract.exe\""
   ]
  },
  {
   "cell_type": "code",
   "execution_count": 48,
   "metadata": {},
   "outputs": [
    {
     "name": "stdout",
     "output_type": "stream",
     "text": [
      "\r",
      "  0% [                                                                            ]      0 / 131666\r",
      "  6% [....                                                                        ]   8192 / 131666\r",
      " 12% [.........                                                                   ]  16384 / 131666\r",
      " 18% [..............                                                              ]  24576 / 131666\r",
      " 24% [..................                                                          ]  32768 / 131666\r",
      " 31% [.......................                                                     ]  40960 / 131666\r",
      " 37% [............................                                                ]  49152 / 131666\r",
      " 43% [.................................                                           ]  57344 / 131666\r",
      " 49% [.....................................                                       ]  65536 / 131666\r",
      " 55% [..........................................                                  ]  73728 / 131666\r",
      " 62% [...............................................                             ]  81920 / 131666\r",
      " 68% [....................................................                        ]  90112 / 131666\r",
      " 74% [........................................................                    ]  98304 / 131666\r",
      " 80% [.............................................................               ] 106496 / 131666\r",
      " 87% [..................................................................          ] 114688 / 131666\r",
      " 93% [......................................................................      ] 122880 / 131666\r",
      " 99% [........................................................................... ] 131072 / 131666\r",
      "100% [............................................................................] 131666 / 131666"
     ]
    }
   ],
   "source": [
    "#Performing OCR using Tesseract Engine on License Plates\n",
    "import wget, zipfile, os\n",
    "filename='license-plates'\n",
    "if not os.path.isfile(filename):\n",
    "    filename = wget.download('https://s3-api.us-geo.objectstorage.softlayer.net/cf-courses-data/CognitiveClass/CV0101/Dataset/license-plates.zip')\n",
    "    with zipfile.ZipFile(\"license-plates.zip\",\"r\") as zip_ref:\n",
    "        zip_ref.extractall()\n",
    "        \n"
   ]
  },
  {
   "cell_type": "code",
   "execution_count": 49,
   "metadata": {},
   "outputs": [],
   "source": [
    "path_lp = os.getcwd() + \"/license-plates/**/*.jpg\"\n",
    "list_lp = []\n",
    "predicted_lp = []\n",
    "for lp in glob.glob(path_lp , recursive=True):\n",
    "    lp_file = lp.split(\"/\")[-1]\n",
    "    license_plate, _ = os.path.splitext(lp_file)\n",
    "    #appending actual license plates into a list\n",
    "    list_lp.append(license_plate)\n",
    "    # reading each license plate using OpenCV\n",
    "    img = cv2.imread(lp)\n",
    "    '''\n",
    "    We then pass each license plate image file to the Tesseract OCR engine using \n",
    "    the Python library wrapper for it. We get back a predicted_result for the license plate.\n",
    "    We append the predicted_result in a list and compare it with the original the license plate\n",
    "    '''\n",
    "    predicted_result = pytesseract.image_to_string(img , lang='eng', config='--oem 3 --psm 6 -c tessedit_char_whitelist=ABCDEFGHIJKLMNOPQRSTUVWXYZ0123456789')\n",
    "    filter_pr = \"\".join(predicted_result.split()).replace(\":\",\"\").replace(\"-\",\"\")\n",
    "    predicted_lp.append(filter_pr)\n"
   ]
  },
  {
   "cell_type": "code",
   "execution_count": 56,
   "metadata": {},
   "outputs": [
    {
     "name": "stdout",
     "output_type": "stream",
     "text": [
      "Actual License Plate \t Predicted License Plate \t\n",
      "-------------------- \t ----------------------- \t\n",
      " license-plates\\AYO9034 \t AYO9034 \t\t  \n",
      " license-plates\\GWT2180 \t GWT2120 \t\t  \n",
      " license-plates\\JSQ1413 \t JSQ|413 \t\t  \n",
      " license-plates\\NTK5785 \t NTK5785 \t\t  \n",
      " license-plates\\NYY1710 \t NYY1710 \t\t  \n",
      " license-plates\\NZW2197 \t NZW2197 \t\t  \n",
      " license-plates\\OCX4764 \t OCX4764 \t\t  \n",
      " license-plates\\ODJ1599 \t ODJ1599 \t\t  \n",
      " license-plates\\OKS0078 \t OKS0078 \t\t  \n",
      " license-plates\\OKV8004 \t OKV8004 \t\t  \n",
      " license-plates\\OLA1208 \t OLA1208 \t\t  \n",
      " license-plates\\OLC4728 \t OLC4728 \t\t  \n",
      " license-plates\\OUP9563 \t OUP9563 \t\t  \n",
      " license-plates\\OYJ9557 \t OYJ9557 \t\t  \n",
      " license-plates\\PJB2414 \t PJB2414 \t\t  \n",
      " license-plates\\PJB7392 \t PJB7392 \t\t  \n",
      " license-plates\\PJD2685 \t PJD2685 \t\t  \n",
      " license-plates\\PJG0783 \t PJG0783 \t\t  \n"
     ]
    }
   ],
   "source": [
    "print(\"Actual License Plate\", \"\\t\", \"Predicted License Plate\", \"\\t\")\n",
    "print(\"--------------------\", \"\\t\", \"-----------------------\", \"\\t\")\n",
    "def print_actual_predicted(actual_list , predicted_list):\n",
    "    for actual_plate,predict_plate in zip(actual_list , predicted_list):\n",
    "        print(\"\", actual_plate, \"\\t\", predict_plate, \"\\t\\t  \")\n",
    "print_actual_predicted(list_lp,predicted_lp)\n",
    "            "
   ]
  },
  {
   "cell_type": "code",
   "execution_count": 57,
   "metadata": {},
   "outputs": [
    {
     "data": {
      "text/plain": [
       "Text(0.5, 1.0, 'GWT2180 license plate')"
      ]
     },
     "execution_count": 57,
     "metadata": {},
     "output_type": "execute_result"
    },
    {
     "data": {
      "image/png": "[encoded data removed]",
      "text/plain": [
       "<Figure size 432x288 with 1 Axes>"
      ]
     },
     "metadata": {
      "needs_background": "light"
     },
     "output_type": "display_data"
    }
   ],
   "source": [
    "#for incorrect solutions we will do image resize,grayscale,denoising the image\n",
    "#Then , we will pass it from the Tesseract OCR.\n",
    "#example GWT2180 -- > GWT2120\n",
    "# Read the license plate file and display it\n",
    "test_license_plate = cv2.imread(os.getcwd() + \"/license-plates/GWT2180.jpg\")\n",
    "plt.imshow(test_license_plate)\n",
    "plt.axis('off')\n",
    "plt.title('GWT2180 license plate')"
   ]
  },
  {
   "cell_type": "code",
   "execution_count": 58,
   "metadata": {},
   "outputs": [],
   "source": [
    "#RESIZING THE IMAGE\n",
    "resize_test_license_plate = cv2.resize(test_license_plate, None, fx=2, fy=2, interpolation=cv2.INTER_CUBIC)"
   ]
  },
  {
   "cell_type": "code",
   "execution_count": 59,
   "metadata": {},
   "outputs": [],
   "source": [
    "#grayscale\n",
    "grayscale_resize_test_license_plate = cv2.cvtColor(resize_test_license_plate, cv2.COLOR_BGR2GRAY)\n"
   ]
  },
  {
   "cell_type": "code",
   "execution_count": 60,
   "metadata": {},
   "outputs": [
    {
     "name": "stdout",
     "output_type": "stream",
     "text": [
      "GWT2180\n"
     ]
    }
   ],
   "source": [
    "#Denoising the image using GaussianBlur\n",
    "gaussian_blur_license_plate = cv2.GaussianBlur(grayscale_resize_test_license_plate, (5, 5), 0)\n",
    "#pass it from the Tesseract OCR\n",
    "new_predicted_result_GWT2180 = pytesseract.image_to_string(gaussian_blur_license_plate, lang='eng',\n",
    "config='--oem 3 -l eng --psm 6 -c tessedit_char_whitelist=ABCDEFGHIJKLMNOPQRSTUVWXYZ0123456789')\n",
    "filter_new_predicted_result_GWT2180 = \"\".join(new_predicted_result_GWT2180.split()).replace(\":\", \"\").replace(\"-\", \"\")\n",
    "print(filter_new_predicted_result_GWT2180)"
   ]
  },
  {
   "cell_type": "code",
   "execution_count": null,
   "metadata": {},
   "outputs": [],
   "source": []
  }
 ],
 "metadata": {
  "kernelspec": {
   "display_name": "Python 3",
   "language": "python",
   "name": "python3"
  },
  "language_info": {
   "codemirror_mode": {
    "name": "ipython",
    "version": 3
   },
   "file_extension": ".py",
   "mimetype": "text/x-python",
   "name": "python",
   "nbconvert_exporter": "python",
   "pygments_lexer": "ipython3",
   "version": "3.7.3"
  }
 },
 "nbformat": 4,
 "nbformat_minor": 2
}
